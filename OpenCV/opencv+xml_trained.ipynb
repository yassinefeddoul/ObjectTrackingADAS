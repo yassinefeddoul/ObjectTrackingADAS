{
 "cells": [
  {
   "cell_type": "code",
   "execution_count": 5,
   "metadata": {
    "scrolled": true
   },
   "outputs": [],
   "source": [
    "# OpenCV Python program to detect cars in video frame \n",
    "# import libraries of python OpenCV  \n",
    "import cv2 \n",
    "  \n",
    "# capture frames from a video \n",
    "cap = cv2.VideoCapture('Desktop/test/cars.mp4') \n",
    "  \n",
    "# Trained XML classifiers describes some features of some object we want to detect \n",
    "car_cascade = cv2.CascadeClassifier('Desktop/cars.xml') \n",
    "  \n",
    "# loop runs if capturing has been initialized. \n",
    "while True: \n",
    "    # reads frames from a video \n",
    "    ret, frames = cap.read() \n",
    "    if ret == False:\n",
    "        break\n",
    "    # convert to gray scale of each frames \n",
    "    gray = cv2.cvtColor(frames, cv2.COLOR_BGR2GRAY) \n",
    "      \n",
    "  \n",
    "    # Detects cars of different sizes in the input image \n",
    "    cars = car_cascade.detectMultiScale(gray, 1.1, 1) \n",
    "      \n",
    "    # To draw a rectangle in each cars \n",
    "    for (x,y,w,h) in cars: \n",
    "        cv2.rectangle(frames,(x,y),(x+w,y+h),(0,0,255),2) \n",
    "  \n",
    "   # Display frames in a window  \n",
    "        cv2.imshow('video2', frames) \n",
    "      \n",
    "    # Wait for Esc key to stop \n",
    "    if cv2.waitKey(33) == 27:\n",
    "        break\n",
    "  \n",
    "# De-allocate any associated memory usage \n",
    "cv2.destroyAllWindows() "
   ]
  },
  {
   "cell_type": "markdown",
   "metadata": {},
   "source": []
  }
 ],
 "metadata": {
  "kernelspec": {
   "display_name": "Python 3",
   "language": "python",
   "name": "python3"
  },
  "language_info": {
   "codemirror_mode": {
    "name": "ipython",
    "version": 3
   },
   "file_extension": ".py",
   "mimetype": "text/x-python",
   "name": "python",
   "nbconvert_exporter": "python",
   "pygments_lexer": "ipython3",
   "version": "3.8.5"
  }
 },
 "nbformat": 4,
 "nbformat_minor": 4
}
